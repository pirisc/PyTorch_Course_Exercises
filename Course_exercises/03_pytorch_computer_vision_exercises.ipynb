{
    "cells": [
        {
            "cell_type": "markdown",
            "metadata": {
                "id": "Vex99np2wFVt"
            },
            "source": [
                "# 03. PyTorch Computer Vision Exercises\n",
                "\n",
                "The following is a collection of exercises based on computer vision fundamentals in PyTorch.\n",
                "\n",
                "They're a bunch of fun.\n",
                "\n",
                "You're going to get to write plenty of code!\n",
                "\n",
                "## Resources\n",
                "\n",
                "1. These exercises are based on [notebook 03 of the Learn PyTorch for Deep Learning course](https://www.learnpytorch.io/03_pytorch_computer_vision/).\n",
                "2. See a live [walkthrough of the solutions (errors and all) on YouTube](https://youtu.be/_PibmqpEyhA).\n",
                "  * **Note:** Going through these exercises took me just over 3 hours of solid coding, so you should expect around the same.\n",
                "3. See [other solutions on the course GitHub](https://github.com/mrdbourke/pytorch-deep-learning/tree/main/extras/solutions)."
            ]
        },
        {
            "cell_type": "code",
            "execution_count": null,
            "metadata": {
                "colab": {
                    "base_uri": "https://localhost:8080/"
                },
                "executionInfo": {
                    "elapsed": 625,
                    "status": "ok",
                    "timestamp": 1745505941055,
                    "user": {
                        "displayName": "Iris",
                        "userId": "16114036812760249917"
                    },
                    "user_tz": -120
                },
                "id": "GaeYzOTLwWh2",
                "outputId": "8e2898f5-2bff-4710-b6e9-ae5b6063c224"
            },
            "outputs": [
                {
                    "name": "stdout",
                    "output_type": "stream",
                    "text": [
                        "Thu Apr 24 14:45:39 2025       \n",
                        "+-----------------------------------------------------------------------------------------+\n",
                        "| NVIDIA-SMI 550.54.15              Driver Version: 550.54.15      CUDA Version: 12.4     |\n",
                        "|-----------------------------------------+------------------------+----------------------+\n",
                        "| GPU  Name                 Persistence-M | Bus-Id          Disp.A | Volatile Uncorr. ECC |\n",
                        "| Fan  Temp   Perf          Pwr:Usage/Cap |           Memory-Usage | GPU-Util  Compute M. |\n",
                        "|                                         |                        |               MIG M. |\n",
                        "|=========================================+========================+======================|\n",
                        "|   0  Tesla T4                       Off |   00000000:00:04.0 Off |                    0 |\n",
                        "| N/A   55C    P8             10W /   70W |       0MiB /  15360MiB |      0%      Default |\n",
                        "|                                         |                        |                  N/A |\n",
                        "+-----------------------------------------+------------------------+----------------------+\n",
                        "                                                                                         \n",
                        "+-----------------------------------------------------------------------------------------+\n",
                        "| Processes:                                                                              |\n",
                        "|  GPU   GI   CI        PID   Type   Process name                              GPU Memory |\n",
                        "|        ID   ID                                                               Usage      |\n",
                        "|=========================================================================================|\n",
                        "|  No running processes found                                                             |\n",
                        "+-----------------------------------------------------------------------------------------+\n"
                    ]
                }
            ],
            "source": [
                "# Check for GPU\n",
                "!nvidia-smi"
            ]
        },
        {
            "cell_type": "code",
            "execution_count": null,
            "metadata": {
                "colab": {
                    "base_uri": "https://localhost:8080/",
                    "height": 54
                },
                "executionInfo": {
                    "elapsed": 3365,
                    "status": "ok",
                    "timestamp": 1745505943976,
                    "user": {
                        "displayName": "Iris",
                        "userId": "16114036812760249917"
                    },
                    "user_tz": -120
                },
                "id": "DNwZLMbCzJLk",
                "outputId": "9d9ed2b4-8c3e-4c7b-d2cc-fa6dff4cfeda"
            },
            "outputs": [
                {
                    "name": "stdout",
                    "output_type": "stream",
                    "text": [
                        "2.6.0+cu124\n"
                    ]
                },
                {
                    "data": {
                        "application/vnd.google.colaboratory.intrinsic+json": {
                            "type": "string"
                        },
                        "text/plain": [
                            "'cuda'"
                        ]
                    },
                    "execution_count": 4,
                    "metadata": {},
                    "output_type": "execute_result"
                }
            ],
            "source": [
                "# Import torch\n",
                "import torch\n",
                "\n",
                "# Exercises require PyTorch > 1.10.0\n",
                "print(torch.__version__)\n",
                "\n",
                "# TODO: Setup device agnostic code\n",
                "device = \"cuda\" if torch.cuda.is_available() else \"cpu\"\n",
                "device"
            ]
        },
        {
            "cell_type": "markdown",
            "metadata": {
                "id": "FSFX7tc1w-en"
            },
            "source": [
                "## 1. What are 3 areas in industry where computer vision is currently being used?"
            ]
        },
        {
            "cell_type": "markdown",
            "metadata": {
                "id": "VyWRkvWGbCXj"
            },
            "source": [
                "* Camera and photo apss use computer vision to enhance and sort images.\n",
                "* Modern cars use computer vision to avoid other cars and staty within lane lines\n",
                "* Security cameras use computer vision to detect potential intruders."
            ]
        },
        {
            "cell_type": "markdown",
            "metadata": {
                "id": "oBK-WI6YxDYa"
            },
            "source": [
                "## 2. Search \"what is overfitting in machine learning\" and write down a sentence about what you find."
            ]
        },
        {
            "cell_type": "markdown",
            "metadata": {
                "id": "d1rxD6GObCqh"
            },
            "source": [
                "Overfitting occurs when the ML model gives accurate predictions for training data but not for new data."
            ]
        },
        {
            "cell_type": "markdown",
            "metadata": {
                "id": "XeYFEqw8xK26"
            },
            "source": [
                "## 3. Search \"ways to prevent overfitting in machine learning\", write down 3 of the things you find and a sentence about each.\n",
                "> **Note:** there are lots of these, so don't worry too much about all of them, just pick 3 and start with those."
            ]
        },
        {
            "cell_type": "markdown",
            "metadata": {
                "id": "ocvOdWKcbEKr"
            },
            "source": [
                "Ways to prevent overfitting:\n",
                " * **Early stopping:** it pauses the training phase before the machine learning model learns the noise in the data.\n",
                " * **Data augmentation:** is a ML technique that changes the sample data slightly every time the model processes it. For example, applying transformations such as translation, flipping and rotation to input images.\n",
                " * **Pruning:** identify the most important features within the training set and eliminate the irrelevant ones.\n"
            ]
        },
        {
            "cell_type": "markdown",
            "metadata": {
                "id": "DKdEEFEqxM-8"
            },
            "source": [
                "## 4. Spend 20-minutes reading and clicking through the [CNN Explainer website](https://poloclub.github.io/cnn-explainer/).\n",
                "\n",
                "* Upload your own example image using the \"upload\" button on the website and see what happens in each layer of a CNN as your image passes through it."
            ]
        },
        {
            "cell_type": "code",
            "execution_count": null,
            "metadata": {
                "id": "TqZaJIRMbFtS"
            },
            "outputs": [],
            "source": []
        },
        {
            "cell_type": "markdown",
            "metadata": {
                "id": "lvf-3pODxXYI"
            },
            "source": [
                "## 5. Load the [`torchvision.datasets.MNIST()`](https://pytorch.org/vision/stable/generated/torchvision.datasets.MNIST.html#torchvision.datasets.MNIST) train and test datasets."
            ]
        },
        {
            "cell_type": "code",
            "execution_count": null,
            "metadata": {
                "colab": {
                    "base_uri": "https://localhost:8080/"
                },
                "executionInfo": {
                    "elapsed": 9334,
                    "status": "ok",
                    "timestamp": 1745505953312,
                    "user": {
                        "displayName": "Iris",
                        "userId": "16114036812760249917"
                    },
                    "user_tz": -120
                },
                "id": "SHjeuN81bHza",
                "outputId": "4c99fec7-e746-4265-8408-014cd9945526"
            },
            "outputs": [
                {
                    "name": "stderr",
                    "output_type": "stream",
                    "text": [
                        "100%|██████████| 9.91M/9.91M [00:00<00:00, 18.6MB/s]\n",
                        "100%|██████████| 28.9k/28.9k [00:00<00:00, 456kB/s]\n",
                        "100%|██████████| 1.65M/1.65M [00:00<00:00, 4.45MB/s]\n",
                        "100%|██████████| 4.54k/4.54k [00:00<00:00, 7.48MB/s]\n"
                    ]
                }
            ],
            "source": [
                "# Import PyTorch\n",
                "import torch\n",
                "from torch import nn\n",
                "\n",
                "#Import torchvision\n",
                "import torchvision\n",
                "from torchvision import datasets\n",
                "from torchvision.transforms import ToTensor\n",
                "\n",
                "# Setup training data\n",
                "train_data = datasets.MNIST(\n",
                "    root = \"data\",\n",
                "    train = True,\n",
                "    download = True,\n",
                "    transform = ToTensor(),\n",
                "    target_transform = None\n",
                ")\n",
                "\n",
                "# Setup testing data\n",
                "test_data = datasets.MNIST(\n",
                "    root = \"data\",\n",
                "    train = False,\n",
                "    download = True,\n",
                "    transform = ToTensor()\n",
                ")"
            ]
        },
        {
            "cell_type": "code",
            "execution_count": null,
            "metadata": {
                "colab": {
                    "base_uri": "https://localhost:8080/"
                },
                "executionInfo": {
                    "elapsed": 54,
                    "status": "ok",
                    "timestamp": 1745505953367,
                    "user": {
                        "displayName": "Iris",
                        "userId": "16114036812760249917"
                    },
                    "user_tz": -120
                },
                "id": "p1RLNuaD9wLO",
                "outputId": "a9782aa5-1166-411a-c916-bd3d33ac4756"
            },
            "outputs": [
                {
                    "data": {
                        "text/plain": [
                            "(tensor([[[0.0000, 0.0000, 0.0000, 0.0000, 0.0000, 0.0000, 0.0000, 0.0000,\n",
                            "           0.0000, 0.0000, 0.0000, 0.0000, 0.0000, 0.0000, 0.0000, 0.0000,\n",
                            "           0.0000, 0.0000, 0.0000, 0.0000, 0.0000, 0.0000, 0.0000, 0.0000,\n",
                            "           0.0000, 0.0000, 0.0000, 0.0000],\n",
                            "          [0.0000, 0.0000, 0.0000, 0.0000, 0.0000, 0.0000, 0.0000, 0.0000,\n",
                            "           0.0000, 0.0000, 0.0000, 0.0000, 0.0000, 0.0000, 0.0000, 0.0000,\n",
                            "           0.0000, 0.0000, 0.0000, 0.0000, 0.0000, 0.0000, 0.0000, 0.0000,\n",
                            "           0.0000, 0.0000, 0.0000, 0.0000],\n",
                            "          [0.0000, 0.0000, 0.0000, 0.0000, 0.0000, 0.0000, 0.0000, 0.0000,\n",
                            "           0.0000, 0.0000, 0.0000, 0.0000, 0.0000, 0.0000, 0.0000, 0.0000,\n",
                            "           0.0000, 0.0000, 0.0000, 0.0000, 0.0000, 0.0000, 0.0000, 0.0000,\n",
                            "           0.0000, 0.0000, 0.0000, 0.0000],\n",
                            "          [0.0000, 0.0000, 0.0000, 0.0000, 0.0000, 0.0000, 0.0000, 0.0000,\n",
                            "           0.0000, 0.0000, 0.0000, 0.0000, 0.0000, 0.0000, 0.0000, 0.0000,\n",
                            "           0.0000, 0.0000, 0.0000, 0.0000, 0.0000, 0.0000, 0.0000, 0.0000,\n",
                            "           0.0000, 0.0000, 0.0000, 0.0000],\n",
                            "          [0.0000, 0.0000, 0.0000, 0.0000, 0.0000, 0.0000, 0.0000, 0.0000,\n",
                            "           0.0000, 0.0000, 0.0000, 0.0000, 0.0000, 0.0000, 0.0000, 0.0000,\n",
                            "           0.0000, 0.0000, 0.0000, 0.0000, 0.0000, 0.0000, 0.0000, 0.0000,\n",
                            "           0.0000, 0.0000, 0.0000, 0.0000],\n",
                            "          [0.0000, 0.0000, 0.0000, 0.0000, 0.0000, 0.0000, 0.0000, 0.0000,\n",
                            "           0.0000, 0.0000, 0.0000, 0.0000, 0.0118, 0.0706, 0.0706, 0.0706,\n",
                            "           0.4941, 0.5333, 0.6863, 0.1020, 0.6510, 1.0000, 0.9686, 0.4980,\n",
                            "           0.0000, 0.0000, 0.0000, 0.0000],\n",
                            "          [0.0000, 0.0000, 0.0000, 0.0000, 0.0000, 0.0000, 0.0000, 0.0000,\n",
                            "           0.1176, 0.1412, 0.3686, 0.6039, 0.6667, 0.9922, 0.9922, 0.9922,\n",
                            "           0.9922, 0.9922, 0.8824, 0.6745, 0.9922, 0.9490, 0.7647, 0.2510,\n",
                            "           0.0000, 0.0000, 0.0000, 0.0000],\n",
                            "          [0.0000, 0.0000, 0.0000, 0.0000, 0.0000, 0.0000, 0.0000, 0.1922,\n",
                            "           0.9333, 0.9922, 0.9922, 0.9922, 0.9922, 0.9922, 0.9922, 0.9922,\n",
                            "           0.9922, 0.9843, 0.3647, 0.3216, 0.3216, 0.2196, 0.1529, 0.0000,\n",
                            "           0.0000, 0.0000, 0.0000, 0.0000],\n",
                            "          [0.0000, 0.0000, 0.0000, 0.0000, 0.0000, 0.0000, 0.0000, 0.0706,\n",
                            "           0.8588, 0.9922, 0.9922, 0.9922, 0.9922, 0.9922, 0.7765, 0.7137,\n",
                            "           0.9686, 0.9451, 0.0000, 0.0000, 0.0000, 0.0000, 0.0000, 0.0000,\n",
                            "           0.0000, 0.0000, 0.0000, 0.0000],\n",
                            "          [0.0000, 0.0000, 0.0000, 0.0000, 0.0000, 0.0000, 0.0000, 0.0000,\n",
                            "           0.3137, 0.6118, 0.4196, 0.9922, 0.9922, 0.8039, 0.0431, 0.0000,\n",
                            "           0.1686, 0.6039, 0.0000, 0.0000, 0.0000, 0.0000, 0.0000, 0.0000,\n",
                            "           0.0000, 0.0000, 0.0000, 0.0000],\n",
                            "          [0.0000, 0.0000, 0.0000, 0.0000, 0.0000, 0.0000, 0.0000, 0.0000,\n",
                            "           0.0000, 0.0549, 0.0039, 0.6039, 0.9922, 0.3529, 0.0000, 0.0000,\n",
                            "           0.0000, 0.0000, 0.0000, 0.0000, 0.0000, 0.0000, 0.0000, 0.0000,\n",
                            "           0.0000, 0.0000, 0.0000, 0.0000],\n",
                            "          [0.0000, 0.0000, 0.0000, 0.0000, 0.0000, 0.0000, 0.0000, 0.0000,\n",
                            "           0.0000, 0.0000, 0.0000, 0.5451, 0.9922, 0.7451, 0.0078, 0.0000,\n",
                            "           0.0000, 0.0000, 0.0000, 0.0000, 0.0000, 0.0000, 0.0000, 0.0000,\n",
                            "           0.0000, 0.0000, 0.0000, 0.0000],\n",
                            "          [0.0000, 0.0000, 0.0000, 0.0000, 0.0000, 0.0000, 0.0000, 0.0000,\n",
                            "           0.0000, 0.0000, 0.0000, 0.0431, 0.7451, 0.9922, 0.2745, 0.0000,\n",
                            "           0.0000, 0.0000, 0.0000, 0.0000, 0.0000, 0.0000, 0.0000, 0.0000,\n",
                            "           0.0000, 0.0000, 0.0000, 0.0000],\n",
                            "          [0.0000, 0.0000, 0.0000, 0.0000, 0.0000, 0.0000, 0.0000, 0.0000,\n",
                            "           0.0000, 0.0000, 0.0000, 0.0000, 0.1373, 0.9451, 0.8824, 0.6275,\n",
                            "           0.4235, 0.0039, 0.0000, 0.0000, 0.0000, 0.0000, 0.0000, 0.0000,\n",
                            "           0.0000, 0.0000, 0.0000, 0.0000],\n",
                            "          [0.0000, 0.0000, 0.0000, 0.0000, 0.0000, 0.0000, 0.0000, 0.0000,\n",
                            "           0.0000, 0.0000, 0.0000, 0.0000, 0.0000, 0.3176, 0.9412, 0.9922,\n",
                            "           0.9922, 0.4667, 0.0980, 0.0000, 0.0000, 0.0000, 0.0000, 0.0000,\n",
                            "           0.0000, 0.0000, 0.0000, 0.0000],\n",
                            "          [0.0000, 0.0000, 0.0000, 0.0000, 0.0000, 0.0000, 0.0000, 0.0000,\n",
                            "           0.0000, 0.0000, 0.0000, 0.0000, 0.0000, 0.0000, 0.1765, 0.7294,\n",
                            "           0.9922, 0.9922, 0.5882, 0.1059, 0.0000, 0.0000, 0.0000, 0.0000,\n",
                            "           0.0000, 0.0000, 0.0000, 0.0000],\n",
                            "          [0.0000, 0.0000, 0.0000, 0.0000, 0.0000, 0.0000, 0.0000, 0.0000,\n",
                            "           0.0000, 0.0000, 0.0000, 0.0000, 0.0000, 0.0000, 0.0000, 0.0627,\n",
                            "           0.3647, 0.9882, 0.9922, 0.7333, 0.0000, 0.0000, 0.0000, 0.0000,\n",
                            "           0.0000, 0.0000, 0.0000, 0.0000],\n",
                            "          [0.0000, 0.0000, 0.0000, 0.0000, 0.0000, 0.0000, 0.0000, 0.0000,\n",
                            "           0.0000, 0.0000, 0.0000, 0.0000, 0.0000, 0.0000, 0.0000, 0.0000,\n",
                            "           0.0000, 0.9765, 0.9922, 0.9765, 0.2510, 0.0000, 0.0000, 0.0000,\n",
                            "           0.0000, 0.0000, 0.0000, 0.0000],\n",
                            "          [0.0000, 0.0000, 0.0000, 0.0000, 0.0000, 0.0000, 0.0000, 0.0000,\n",
                            "           0.0000, 0.0000, 0.0000, 0.0000, 0.0000, 0.0000, 0.1804, 0.5098,\n",
                            "           0.7176, 0.9922, 0.9922, 0.8118, 0.0078, 0.0000, 0.0000, 0.0000,\n",
                            "           0.0000, 0.0000, 0.0000, 0.0000],\n",
                            "          [0.0000, 0.0000, 0.0000, 0.0000, 0.0000, 0.0000, 0.0000, 0.0000,\n",
                            "           0.0000, 0.0000, 0.0000, 0.0000, 0.1529, 0.5804, 0.8980, 0.9922,\n",
                            "           0.9922, 0.9922, 0.9804, 0.7137, 0.0000, 0.0000, 0.0000, 0.0000,\n",
                            "           0.0000, 0.0000, 0.0000, 0.0000],\n",
                            "          [0.0000, 0.0000, 0.0000, 0.0000, 0.0000, 0.0000, 0.0000, 0.0000,\n",
                            "           0.0000, 0.0000, 0.0941, 0.4471, 0.8667, 0.9922, 0.9922, 0.9922,\n",
                            "           0.9922, 0.7882, 0.3059, 0.0000, 0.0000, 0.0000, 0.0000, 0.0000,\n",
                            "           0.0000, 0.0000, 0.0000, 0.0000],\n",
                            "          [0.0000, 0.0000, 0.0000, 0.0000, 0.0000, 0.0000, 0.0000, 0.0000,\n",
                            "           0.0902, 0.2588, 0.8353, 0.9922, 0.9922, 0.9922, 0.9922, 0.7765,\n",
                            "           0.3176, 0.0078, 0.0000, 0.0000, 0.0000, 0.0000, 0.0000, 0.0000,\n",
                            "           0.0000, 0.0000, 0.0000, 0.0000],\n",
                            "          [0.0000, 0.0000, 0.0000, 0.0000, 0.0000, 0.0000, 0.0706, 0.6706,\n",
                            "           0.8588, 0.9922, 0.9922, 0.9922, 0.9922, 0.7647, 0.3137, 0.0353,\n",
                            "           0.0000, 0.0000, 0.0000, 0.0000, 0.0000, 0.0000, 0.0000, 0.0000,\n",
                            "           0.0000, 0.0000, 0.0000, 0.0000],\n",
                            "          [0.0000, 0.0000, 0.0000, 0.0000, 0.2157, 0.6745, 0.8863, 0.9922,\n",
                            "           0.9922, 0.9922, 0.9922, 0.9569, 0.5216, 0.0431, 0.0000, 0.0000,\n",
                            "           0.0000, 0.0000, 0.0000, 0.0000, 0.0000, 0.0000, 0.0000, 0.0000,\n",
                            "           0.0000, 0.0000, 0.0000, 0.0000],\n",
                            "          [0.0000, 0.0000, 0.0000, 0.0000, 0.5333, 0.9922, 0.9922, 0.9922,\n",
                            "           0.8314, 0.5294, 0.5176, 0.0627, 0.0000, 0.0000, 0.0000, 0.0000,\n",
                            "           0.0000, 0.0000, 0.0000, 0.0000, 0.0000, 0.0000, 0.0000, 0.0000,\n",
                            "           0.0000, 0.0000, 0.0000, 0.0000],\n",
                            "          [0.0000, 0.0000, 0.0000, 0.0000, 0.0000, 0.0000, 0.0000, 0.0000,\n",
                            "           0.0000, 0.0000, 0.0000, 0.0000, 0.0000, 0.0000, 0.0000, 0.0000,\n",
                            "           0.0000, 0.0000, 0.0000, 0.0000, 0.0000, 0.0000, 0.0000, 0.0000,\n",
                            "           0.0000, 0.0000, 0.0000, 0.0000],\n",
                            "          [0.0000, 0.0000, 0.0000, 0.0000, 0.0000, 0.0000, 0.0000, 0.0000,\n",
                            "           0.0000, 0.0000, 0.0000, 0.0000, 0.0000, 0.0000, 0.0000, 0.0000,\n",
                            "           0.0000, 0.0000, 0.0000, 0.0000, 0.0000, 0.0000, 0.0000, 0.0000,\n",
                            "           0.0000, 0.0000, 0.0000, 0.0000],\n",
                            "          [0.0000, 0.0000, 0.0000, 0.0000, 0.0000, 0.0000, 0.0000, 0.0000,\n",
                            "           0.0000, 0.0000, 0.0000, 0.0000, 0.0000, 0.0000, 0.0000, 0.0000,\n",
                            "           0.0000, 0.0000, 0.0000, 0.0000, 0.0000, 0.0000, 0.0000, 0.0000,\n",
                            "           0.0000, 0.0000, 0.0000, 0.0000]]]),\n",
                            " 5)"
                        ]
                    },
                    "execution_count": 6,
                    "metadata": {},
                    "output_type": "execute_result"
                }
            ],
            "source": [
                "# See first training sample\n",
                "image, label = train_data[0]\n",
                "image,label"
            ]
        },
        {
            "cell_type": "markdown",
            "metadata": {
                "id": "qxZW-uAbxe_F"
            },
            "source": [
                "## 6. Visualize at least 5 different samples of the MNIST training dataset."
            ]
        },
        {
            "cell_type": "code",
            "execution_count": null,
            "metadata": {
                "colab": {
                    "base_uri": "https://localhost:8080/"
                },
                "executionInfo": {
                    "elapsed": 8,
                    "status": "ok",
                    "timestamp": 1745505953375,
                    "user": {
                        "displayName": "Iris",
                        "userId": "16114036812760249917"
                    },
                    "user_tz": -120
                },
                "id": "-F2owBxk_HKl",
                "outputId": "ad5ad9c3-02a4-4f83-8d79-6e449d7f95d1"
            },
            "outputs": [
                {
                    "data": {
                        "text/plain": [
                            "['0 - zero',\n",
                            " '1 - one',\n",
                            " '2 - two',\n",
                            " '3 - three',\n",
                            " '4 - four',\n",
                            " '5 - five',\n",
                            " '6 - six',\n",
                            " '7 - seven',\n",
                            " '8 - eight',\n",
                            " '9 - nine']"
                        ]
                    },
                    "execution_count": 7,
                    "metadata": {},
                    "output_type": "execute_result"
                }
            ],
            "source": [
                "class_names = train_data.classes\n",
                "class_names"
            ]
        },
        {
            "cell_type": "code",
            "execution_count": null,
            "metadata": {
                "colab": {
                    "base_uri": "https://localhost:8080/",
                    "height": 674
                },
                "executionInfo": {
                    "elapsed": 489,
                    "status": "ok",
                    "timestamp": 1745505953865,
                    "user": {
                        "displayName": "Iris",
                        "userId": "16114036812760249917"
                    },
                    "user_tz": -120
                },
                "id": "QVFsYi1PbItE",
                "outputId": "129508be-3eb8-442c-a806-782ae3c104ae"
            },
            "outputs": [
                {
                    "data": {
                        "image/png": "[encoded data removed]",
                        "text/plain": [
                            "<Figure size 800x800 with 9 Axes>"
                        ]
                    },
                    "metadata": {},
                    "output_type": "display_data"
                }
            ],
            "source": [
                "import matplotlib.pyplot as plt\n",
                "\n",
                "fig = plt.figure(figsize=(8,8))\n",
                "rows, cols = 3, 3\n",
                "for i in range(1, rows * cols +1):\n",
                "  random_idx = torch.randint(0, len(train_data), size=[1]).item()\n",
                "  img,label = train_data[random_idx]\n",
                "  fig.add_subplot(rows, cols, i)\n",
                "  plt.imshow(img.squeeze(),cmap=\"gray\")\n",
                "  plt.title(class_names[label])\n",
                "  plt.axis(False);\n"
            ]
        },
        {
            "cell_type": "markdown",
            "metadata": {
                "id": "JAPDzW0wxhi3"
            },
            "source": [
                "## 7. Turn the MNIST train and test datasets into dataloaders using `torch.utils.data.DataLoader`, set the `batch_size=32`."
            ]
        },
        {
            "cell_type": "code",
            "execution_count": null,
            "metadata": {
                "id": "ALA6MPcFbJXQ"
            },
            "outputs": [],
            "source": [
                "from torch.utils.data import DataLoader\n",
                "\n",
                "BATCH_SIZE = 32\n",
                "\n",
                "# Turn datasets into dataloaders\n",
                "train_dataloader = DataLoader(train_data,\n",
                "                              BATCH_SIZE,\n",
                "                              shuffle = True)\n",
                "test_dataloader =DataLoader(test_data,\n",
                "                            BATCH_SIZE,\n",
                "                            shuffle = False)"
            ]
        },
        {
            "cell_type": "markdown",
            "metadata": {
                "id": "bCCVfXk5xjYS"
            },
            "source": [
                "## 8. Recreate `model_2` used in notebook 03 (the same model from the [CNN Explainer website](https://poloclub.github.io/cnn-explainer/), also known as TinyVGG) capable of fitting on the MNIST dataset."
            ]
        },
        {
            "cell_type": "code",
            "execution_count": null,
            "metadata": {
                "colab": {
                    "base_uri": "https://localhost:8080/",
                    "height": 36
                },
                "executionInfo": {
                    "elapsed": 9,
                    "status": "ok",
                    "timestamp": 1745505953878,
                    "user": {
                        "displayName": "Iris",
                        "userId": "16114036812760249917"
                    },
                    "user_tz": -120
                },
                "id": "5IKNF22XbKYS",
                "outputId": "a03d0fed-dba2-4ff5-e471-3d012b86fb68"
            },
            "outputs": [
                {
                    "data": {
                        "application/vnd.google.colaboratory.intrinsic+json": {
                            "type": "string"
                        },
                        "text/plain": [
                            "'cuda'"
                        ]
                    },
                    "execution_count": 10,
                    "metadata": {},
                    "output_type": "execute_result"
                }
            ],
            "source": [
                "device = \"cuda\" if torch.cuda.is_available() else \"cpu\"\n",
                "device"
            ]
        },
        {
            "cell_type": "code",
            "execution_count": null,
            "metadata": {
                "colab": {
                    "base_uri": "https://localhost:8080/"
                },
                "executionInfo": {
                    "elapsed": 87,
                    "status": "ok",
                    "timestamp": 1745505953966,
                    "user": {
                        "displayName": "Iris",
                        "userId": "16114036812760249917"
                    },
                    "user_tz": -120
                },
                "id": "oJVMMAj7EvJR",
                "outputId": "77aeeef9-5615-45dd-af5c-03c50a990a6b"
            },
            "outputs": [
                {
                    "data": {
                        "text/plain": [
                            "MNIST(\n",
                            "  (block_1): Sequential(\n",
                            "    (0): Conv2d(1, 10, kernel_size=(3, 3), stride=(1, 1), padding=(1, 1))\n",
                            "    (1): ReLU()\n",
                            "    (2): Conv2d(10, 10, kernel_size=(3, 3), stride=(1, 1), padding=(1, 1))\n",
                            "    (3): ReLU()\n",
                            "    (4): MaxPool2d(kernel_size=2, stride=2, padding=0, dilation=1, ceil_mode=False)\n",
                            "  )\n",
                            "  (block_2): Sequential(\n",
                            "    (0): Conv2d(10, 10, kernel_size=(3, 3), stride=(1, 1), padding=(1, 1))\n",
                            "    (1): ReLU()\n",
                            "    (2): Conv2d(10, 10, kernel_size=(3, 3), stride=(1, 1), padding=(1, 1))\n",
                            "    (3): ReLU()\n",
                            "    (4): MaxPool2d(kernel_size=2, stride=2, padding=0, dilation=1, ceil_mode=False)\n",
                            "  )\n",
                            "  (classifier): Sequential(\n",
                            "    (0): Flatten(start_dim=1, end_dim=-1)\n",
                            "    (1): Linear(in_features=490, out_features=10, bias=True)\n",
                            "  )\n",
                            ")"
                        ]
                    },
                    "execution_count": 11,
                    "metadata": {},
                    "output_type": "execute_result"
                }
            ],
            "source": [
                "class MNIST(nn.Module):\n",
                "  def __init__(self, input_shape: int, hidden_units: int, output_shape: int):\n",
                "    super().__init__()\n",
                "    self.block_1 = nn.Sequential(\n",
                "        nn.Conv2d(\n",
                "            in_channels = input_shape,\n",
                "            out_channels = hidden_units,\n",
                "            kernel_size = 3,\n",
                "            stride =1,\n",
                "            padding = 1\n",
                "        ),\n",
                "        nn.ReLU(),\n",
                "        nn.Conv2d(in_channels=hidden_units,\n",
                "                  out_channels = hidden_units,\n",
                "                  kernel_size =3,\n",
                "                  stride =1,\n",
                "                  padding =1),\n",
                "        nn.ReLU(),\n",
                "        nn.MaxPool2d(kernel_size=2,\n",
                "                     stride =2)\n",
                "    )\n",
                "    self.block_2 = nn.Sequential(\n",
                "        nn.Conv2d(hidden_units, hidden_units, 3, padding=1),\n",
                "        nn.ReLU(),\n",
                "        nn.Conv2d(hidden_units, hidden_units, 3, padding=1),\n",
                "        nn.ReLU(),\n",
                "        nn.MaxPool2d(2)\n",
                "    )\n",
                "    self.classifier = nn.Sequential(\n",
                "        nn.Flatten(),\n",
                "        nn.Linear(in_features=hidden_units *7*7,\n",
                "                  out_features = output_shape)\n",
                "    )\n",
                "\n",
                "  def forward(self,x):\n",
                "    x = self.block_1(x)\n",
                "    x = self.block_2(x)\n",
                "    x = self.classifier(x)\n",
                "    return x\n",
                "\n",
                "model_1 = MNIST(input_shape =1,\n",
                "                hidden_units = 10,\n",
                "                output_shape = len(class_names)).to(device)\n",
                "model_1"
            ]
        },
        {
            "cell_type": "markdown",
            "metadata": {
                "id": "sf_3zUr7xlhy"
            },
            "source": [
                "## 9. Train the model you built in exercise 8. for 5 epochs on CPU and GPU and see how long it takes on each."
            ]
        },
        {
            "cell_type": "code",
            "execution_count": null,
            "metadata": {
                "colab": {
                    "base_uri": "https://localhost:8080/",
                    "height": 176,
                    "referenced_widgets": [
                        "8e49a98e5b064e99bedcf541693f9e59",
                        "a226fa71ca064b5baed281d4f5af874e",
                        "04f5308720ac4e9886b2c13b799a3957",
                        "7315f55c2bba4d1d8b4c125dccc7e9aa",
                        "081c146c348e44568486fb1c0755d8c4",
                        "690f0c0e57d64afb8d5ea6548af8059b",
                        "ab443896d126485ca617c9bec9d575ab",
                        "de88825dc2354e059f6cbe859655e0b9",
                        "562fbf3630af4e24bd6438f9acc30e95",
                        "5a147ffe1c0b4cb8b01f529eaad795ca",
                        "f6ba55c5a1a74e5ca0ae91d534cb0cde"
                    ]
                },
                "executionInfo": {
                    "elapsed": 176060,
                    "status": "ok",
                    "timestamp": 1745506130025,
                    "user": {
                        "displayName": "Iris",
                        "userId": "16114036812760249917"
                    },
                    "user_tz": -120
                },
                "id": "jSo6vVWFbNLD",
                "outputId": "c7edaaef-b383-40d6-be0d-bcd6e07f24d1"
            },
            "outputs": [
                {
                    "data": {
                        "application/vnd.jupyter.widget-view+json": {
                            "model_id": "8e49a98e5b064e99bedcf541693f9e59",
                            "version_major": 2,
                            "version_minor": 0
                        },
                        "text/plain": [
                            "  0%|          | 0/5 [00:00<?, ?it/s]"
                        ]
                    },
                    "metadata": {},
                    "output_type": "display_data"
                },
                {
                    "name": "stdout",
                    "output_type": "stream",
                    "text": [
                        "Epoch: 0 | Loss: 0.366 | Test loss: 0.064 \n",
                        "Epoch: 1 | Loss: 0.073 | Test loss: 0.077 \n",
                        "Epoch: 2 | Loss: 0.058 | Test loss: 0.052 \n",
                        "Epoch: 3 | Loss: 0.049 | Test loss: 0.058 \n",
                        "Epoch: 4 | Loss: 0.042 | Test loss: 0.041 \n",
                        "CPU times: user 2min 52s, sys: 1.15 s, total: 2min 54s\n",
                        "Wall time: 2min 56s\n"
                    ]
                }
            ],
            "source": [
                "# Train model on the CPU\n",
                "%%time\n",
                "from tqdm.auto import tqdm\n",
                "\n",
                "model_cpu= MNIST(input_shape=1,\n",
                "                 hidden_units=10,\n",
                "                 output_shape=len(class_names)).to(\"cpu\")\n",
                "\n",
                "# Loss function and optimizer\n",
                "loss_fn = nn.CrossEntropyLoss()\n",
                "optimizer = torch.optim.SGD(model_cpu.parameters(), lr=0.1)\n",
                "\n",
                "### Training loop\n",
                "epochs = 5\n",
                "for epoch in tqdm(range(epochs)):\n",
                "  train_loss = 0\n",
                "  for batch, (X,y) in enumerate(train_dataloader):\n",
                "    model_cpu.train()\n",
                "\n",
                "    # Put data on CPU\n",
                "    X, y = X.to(\"cpu\"), y.to(\"cpu\")\n",
                "\n",
                "    # Forward pass\n",
                "    y_pred = model_cpu(X)\n",
                "\n",
                "    # Loss calculation\n",
                "    loss = loss_fn(y_pred, y)\n",
                "    train_loss += loss\n",
                "\n",
                "    #Optimizer zero grad\n",
                "    optimizer.zero_grad()\n",
                "\n",
                "    # Loss backward\n",
                "    loss.backward()\n",
                "\n",
                "    # Step\n",
                "    optimizer.step()\n",
                "\n",
                "  # Adjust train loss\n",
                "  train_loss /= len(train_dataloader)\n",
                "\n",
                "  ### Testing loop\n",
                "  test_loss_total = 0\n",
                "\n",
                "  #Put model in eval mode\n",
                "  model_cpu.eval()\n",
                "\n",
                "  # Turn on inference model\n",
                "  with torch.inference_mode():\n",
                "    for batch, (X_test, y_test) in enumerate(test_dataloader):\n",
                "      X_test, y_test = X_test.to(\"cpu\"), y_test.to(\"cpu\")\n",
                "\n",
                "      test_pred= model_cpu(X_test)\n",
                "      test_loss = loss_fn(test_pred, y_test)\n",
                "\n",
                "      test_loss_total += test_loss\n",
                "\n",
                "    test_loss_total /= len(test_dataloader)\n",
                "\n",
                "  # Print whats happening\n",
                "  print(f\"Epoch: {epoch} | Loss: {train_loss:.3f} | Test loss: {test_loss_total:.3f} \")\n",
                "\n"
            ]
        },
        {
            "cell_type": "code",
            "execution_count": null,
            "metadata": {
                "colab": {
                    "base_uri": "https://localhost:8080/",
                    "height": 176,
                    "referenced_widgets": [
                        "d5cda3b0a02d4eb8887570793dddc904",
                        "2e36e6a2bab143e795518dbab7d034c3",
                        "02a2a625759744daa8cdb8617358b626",
                        "3baaa04b94574bf4838210f8e6da6cf5",
                        "198747fdb9324390917b69517a81d188",
                        "06fc1f40077744ef899037e9b68c156d",
                        "404507fbfb334aa88581142c652419dd",
                        "ae3d350be88f4c3495a21784592115ab",
                        "3edd2153b6e548c6a0846252f93e02f0",
                        "05e74c07684d4664b05668dcf0e14f57",
                        "57c3d89ca27d49bca0356447507df777"
                    ]
                },
                "executionInfo": {
                    "elapsed": 56121,
                    "status": "ok",
                    "timestamp": 1745506186147,
                    "user": {
                        "displayName": "Iris",
                        "userId": "16114036812760249917"
                    },
                    "user_tz": -120
                },
                "id": "cKIDEA3wKA9Y",
                "outputId": "ecbffc08-fd90-421b-d4ad-a4f920084751"
            },
            "outputs": [
                {
                    "data": {
                        "application/vnd.jupyter.widget-view+json": {
                            "model_id": "d5cda3b0a02d4eb8887570793dddc904",
                            "version_major": 2,
                            "version_minor": 0
                        },
                        "text/plain": [
                            "  0%|          | 0/5 [00:00<?, ?it/s]"
                        ]
                    },
                    "metadata": {},
                    "output_type": "display_data"
                },
                {
                    "name": "stdout",
                    "output_type": "stream",
                    "text": [
                        "Epoch: 0 | Loss: 0.275 | Test loss: 0.072 \n",
                        "Epoch: 1 | Loss: 0.077 | Test loss: 0.050 \n",
                        "Epoch: 2 | Loss: 0.059 | Test loss: 0.049 \n",
                        "Epoch: 3 | Loss: 0.052 | Test loss: 0.045 \n",
                        "Epoch: 4 | Loss: 0.045 | Test loss: 0.048 \n",
                        "CPU times: user 54.7 s, sys: 366 ms, total: 55 s\n",
                        "Wall time: 56.1 s\n"
                    ]
                }
            ],
            "source": [
                "# Train model on the GPU\n",
                "%%time\n",
                "from tqdm.auto import tqdm\n",
                "\n",
                "device = \"cuda\" if torch.cuda.is_available() else \"cpu\"\n",
                "model_gpu= MNIST(input_shape=1,\n",
                "                 hidden_units=10,\n",
                "                 output_shape=len(class_names)).to(device)\n",
                "\n",
                "# Loss function and optimizer\n",
                "loss_fn = nn.CrossEntropyLoss()\n",
                "optimizer = torch.optim.SGD(model_gpu.parameters(), lr=0.1)\n",
                "\n",
                "### Training loop\n",
                "epochs = 5\n",
                "for epoch in tqdm(range(epochs)):\n",
                "  train_loss = 0\n",
                "  for batch, (X,y) in enumerate(train_dataloader):\n",
                "    model_gpu.train()\n",
                "\n",
                "    # Put data on CPU\n",
                "    X, y = X.to(device), y.to(device)\n",
                "\n",
                "    # Forward pass\n",
                "    y_pred = model_gpu(X)\n",
                "\n",
                "    # Loss calculation\n",
                "    loss = loss_fn(y_pred, y)\n",
                "    train_loss += loss\n",
                "\n",
                "    #Optimizer zero grad\n",
                "    optimizer.zero_grad()\n",
                "\n",
                "    # Loss backward\n",
                "    loss.backward()\n",
                "\n",
                "    # Step\n",
                "    optimizer.step()\n",
                "\n",
                "  # Adjust train loss\n",
                "  train_loss /= len(train_dataloader)\n",
                "\n",
                "  ### Testing loop\n",
                "  test_loss_total = 0\n",
                "\n",
                "  #Put model in eval mode\n",
                "  model_gpu.eval()\n",
                "\n",
                "  # Turn on inference model\n",
                "  with torch.inference_mode():\n",
                "    for batch, (X_test, y_test) in enumerate(test_dataloader):\n",
                "      X_test, y_test = X_test.to(device), y_test.to(device)\n",
                "      test_pred= model_gpu(X_test)\n",
                "      test_loss = loss_fn(test_pred, y_test)\n",
                "\n",
                "      test_loss_total += test_loss\n",
                "\n",
                "    test_loss_total /= len(test_dataloader)\n",
                "\n",
                "  # Print whats happening\n",
                "  print(f\"Epoch: {epoch} | Loss: {train_loss:.3f} | Test loss: {test_loss_total:.3f} \")\n"
            ]
        },
        {
            "cell_type": "markdown",
            "metadata": {
                "id": "w1CsHhPpxp1w"
            },
            "source": [
                "## 10. Make predictions using your trained model and visualize at least 5 of them comparing the prediciton to the target label."
            ]
        },
        {
            "cell_type": "code",
            "execution_count": null,
            "metadata": {
                "colab": {
                    "base_uri": "https://localhost:8080/"
                },
                "executionInfo": {
                    "elapsed": 9,
                    "status": "ok",
                    "timestamp": 1745506186154,
                    "user": {
                        "displayName": "Iris",
                        "userId": "16114036812760249917"
                    },
                    "user_tz": -120
                },
                "id": "_YGgZvSobNxu",
                "outputId": "01279f50-e691-419b-ae05-23d50b4c6ee1"
            },
            "outputs": [
                {
                    "data": {
                        "text/plain": [
                            "tensor([7], device='cuda:0')"
                        ]
                    },
                    "execution_count": 14,
                    "metadata": {},
                    "output_type": "execute_result"
                }
            ],
            "source": [
                "# Make predictions with the test data\n",
                "image = test_data[0][0].unsqueeze(dim=0).to(device)\n",
                "pred_logits = model_gpu(image)\n",
                "pred_probs = torch.softmax(pred_logits, dim =1)\n",
                "pred_labels = torch.argmax(pred_probs, dim = 1)\n",
                "pred_labels\n"
            ]
        },
        {
            "cell_type": "code",
            "execution_count": null,
            "metadata": {
                "colab": {
                    "base_uri": "https://localhost:8080/",
                    "height": 1000
                },
                "executionInfo": {
                    "elapsed": 352,
                    "status": "ok",
                    "timestamp": 1745506186509,
                    "user": {
                        "displayName": "Iris",
                        "userId": "16114036812760249917"
                    },
                    "user_tz": -120
                },
                "id": "qEuOQBokYEJe",
                "outputId": "74542025-d6f7-4b61-8d3f-6e3ed0911e74"
            },
            "outputs": [
                {
                    "data": {
                        "image/png": "[encoded data removed]",
                        "text/plain": [
                            "<Figure size 640x480 with 1 Axes>"
                        ]
                    },
                    "metadata": {},
                    "output_type": "display_data"
                },
                {
                    "data": {
                        "image/png": "[encoded data removed]",
                        "text/plain": [
                            "<Figure size 640x480 with 1 Axes>"
                        ]
                    },
                    "metadata": {},
                    "output_type": "display_data"
                },
                {
                    "data": {
                        "image/png": "[encoded data removed]",
                        "text/plain": [
                            "<Figure size 640x480 with 1 Axes>"
                        ]
                    },
                    "metadata": {},
                    "output_type": "display_data"
                },
                {
                    "data": {
                        "image/png": "[encoded data removed]",
                        "text/plain": [
                            "<Figure size 640x480 with 1 Axes>"
                        ]
                    },
                    "metadata": {},
                    "output_type": "display_data"
                },
                {
                    "data": {
                        "image/png": "[encoded data removed]",
                        "text/plain": [
                            "<Figure size 640x480 with 1 Axes>"
                        ]
                    },
                    "metadata": {},
                    "output_type": "display_data"
                }
            ],
            "source": [
                "plot_img = 5\n",
                "for i in range(plot_img):\n",
                "  img = test_data[i][0]\n",
                "  label = test_data[i][1]\n",
                "\n",
                "  # Predictions\n",
                "  img = img.to(device)\n",
                "  pred_logits = model_gpu(img.unsqueeze(dim=0))\n",
                "  pred_probs = torch.softmax(pred_logits, dim =1)\n",
                "  pred_label = torch.argmax(pred_probs, dim = 1)\n",
                "\n",
                "  # Plot the image\n",
                "  plt.figure()\n",
                "  plt.imshow(img.cpu().squeeze(), cmap=\"gray\")\n",
                "  plt.title(f\"Truth: {label} | Prediction: {pred_label.cpu().item()}\")\n",
                "  plt.axis(False);"
            ]
        },
        {
            "cell_type": "markdown",
            "metadata": {
                "id": "qQwzqlBWxrpG"
            },
            "source": [
                "## 11. Plot a confusion matrix comparing your model's predictions to the truth labels."
            ]
        },
        {
            "cell_type": "code",
            "execution_count": null,
            "metadata": {
                "colab": {
                    "base_uri": "https://localhost:8080/"
                },
                "executionInfo": {
                    "elapsed": 109478,
                    "status": "ok",
                    "timestamp": 1745506295990,
                    "user": {
                        "displayName": "Iris",
                        "userId": "16114036812760249917"
                    },
                    "user_tz": -120
                },
                "id": "tuLp3zGiCxn1",
                "outputId": "97122bbf-6b04-4eac-960d-f029e414ad09"
            },
            "outputs": [
                {
                    "name": "stdout",
                    "output_type": "stream",
                    "text": [
                        "\u001b[2K   \u001b[90m━━━━━━━━━━━━━━━━━━━━━━━━━━━━━━━━━━━━━━━━\u001b[0m \u001b[32m961.5/961.5 kB\u001b[0m \u001b[31m22.1 MB/s\u001b[0m eta \u001b[36m0:00:00\u001b[0m\n",
                        "\u001b[2K   \u001b[90m━━━━━━━━━━━━━━━━━━━━━━━━━━━━━━━━━━━━━━━━\u001b[0m \u001b[32m363.4/363.4 MB\u001b[0m \u001b[31m3.0 MB/s\u001b[0m eta \u001b[36m0:00:00\u001b[0m\n",
                        "\u001b[2K   \u001b[90m━━━━━━━━━━━━━━━━━━━━━━━━━━━━━━━━━━━━━━━━\u001b[0m \u001b[32m13.8/13.8 MB\u001b[0m \u001b[31m128.2 MB/s\u001b[0m eta \u001b[36m0:00:00\u001b[0m\n",
                        "\u001b[2K   \u001b[90m━━━━━━━━━━━━━━━━━━━━━━━━━━━━━━━━━━━━━━━━\u001b[0m \u001b[32m24.6/24.6 MB\u001b[0m \u001b[31m86.1 MB/s\u001b[0m eta \u001b[36m0:00:00\u001b[0m\n",
                        "\u001b[2K   \u001b[90m━━━━━━━━━━━━━━━━━━━━━━━━━━━━━━━━━━━━━━━━\u001b[0m \u001b[32m883.7/883.7 kB\u001b[0m \u001b[31m64.0 MB/s\u001b[0m eta \u001b[36m0:00:00\u001b[0m\n",
                        "\u001b[2K   \u001b[90m━━━━━━━━━━━━━━━━━━━━━━━━━━━━━━━━━━━━━━━━\u001b[0m \u001b[32m664.8/664.8 MB\u001b[0m \u001b[31m2.8 MB/s\u001b[0m eta \u001b[36m0:00:00\u001b[0m\n",
                        "\u001b[2K   \u001b[90m━━━━━━━━━━━━━━━━━━━━━━━━━━━━━━━━━━━━━━━━\u001b[0m \u001b[32m211.5/211.5 MB\u001b[0m \u001b[31m5.9 MB/s\u001b[0m eta \u001b[36m0:00:00\u001b[0m\n",
                        "\u001b[2K   \u001b[90m━━━━━━━━━━━━━━━━━━━━━━━━━━━━━━━━━━━━━━━━\u001b[0m \u001b[32m56.3/56.3 MB\u001b[0m \u001b[31m13.8 MB/s\u001b[0m eta \u001b[36m0:00:00\u001b[0m\n",
                        "\u001b[2K   \u001b[90m━━━━━━━━━━━━━━━━━━━━━━━━━━━━━━━━━━━━━━━━\u001b[0m \u001b[32m127.9/127.9 MB\u001b[0m \u001b[31m9.7 MB/s\u001b[0m eta \u001b[36m0:00:00\u001b[0m\n",
                        "\u001b[2K   \u001b[90m━━━━━━━━━━━━━━━━━━━━━━━━━━━━━━━━━━━━━━━━\u001b[0m \u001b[32m207.5/207.5 MB\u001b[0m \u001b[31m6.0 MB/s\u001b[0m eta \u001b[36m0:00:00\u001b[0m\n",
                        "\u001b[2K   \u001b[90m━━━━━━━━━━━━━━━━━━━━━━━━━━━━━━━━━━━━━━━━\u001b[0m \u001b[32m21.1/21.1 MB\u001b[0m \u001b[31m104.8 MB/s\u001b[0m eta \u001b[36m0:00:00\u001b[0m\n",
                        "\u001b[?25hmlxtend version: 0.23.4\n"
                    ]
                }
            ],
            "source": [
                "# See if torchmetrics exists, if not, install it\n",
                "try:\n",
                "    import torchmetrics, mlxtend\n",
                "    print(f\"mlxtend version: {mlxtend.__version__}\")\n",
                "    assert int(mlxtend.__version__.split(\".\")[1]) >= 19, \"mlxtend verison should be 0.19.0 or higher\"\n",
                "except:\n",
                "    !pip install -q torchmetrics -U mlxtend # <- Note: If you're using Google Colab, this may require restarting the runtime\n",
                "    import torchmetrics, mlxtend\n",
                "    print(f\"mlxtend version: {mlxtend.__version__}\")"
            ]
        },
        {
            "cell_type": "code",
            "execution_count": null,
            "metadata": {
                "colab": {
                    "base_uri": "https://localhost:8080/"
                },
                "executionInfo": {
                    "elapsed": 8,
                    "status": "ok",
                    "timestamp": 1745506296001,
                    "user": {
                        "displayName": "Iris",
                        "userId": "16114036812760249917"
                    },
                    "user_tz": -120
                },
                "id": "YHzPzTzcC5E-",
                "outputId": "47325c70-1438-467d-e7f2-4a594b356d66"
            },
            "outputs": [
                {
                    "name": "stdout",
                    "output_type": "stream",
                    "text": [
                        "0.23.4\n"
                    ]
                }
            ],
            "source": [
                "# Import mlxtend upgraded version\n",
                "import mlxtend\n",
                "print(mlxtend.__version__)\n",
                "assert int(mlxtend.__version__.split(\".\")[1]) >= 19 # should be version 0.19.0 or higher"
            ]
        },
        {
            "cell_type": "code",
            "execution_count": null,
            "metadata": {
                "colab": {
                    "base_uri": "https://localhost:8080/"
                },
                "executionInfo": {
                    "elapsed": 978,
                    "status": "ok",
                    "timestamp": 1745506837124,
                    "user": {
                        "displayName": "Iris",
                        "userId": "16114036812760249917"
                    },
                    "user_tz": -120
                },
                "id": "wtYb-XPeC9Du",
                "outputId": "5df65d9b-8c34-4609-8f66-11bfe87ee4ac"
            },
            "outputs": [
                {
                    "data": {
                        "text/plain": [
                            "tensor([7, 2, 1,  ..., 4, 5, 6], device='cuda:0')"
                        ]
                    },
                    "execution_count": 20,
                    "metadata": {},
                    "output_type": "execute_result"
                }
            ],
            "source": [
                "# Predictions with all the data\n",
                "y_preds = []\n",
                "model_gpu.eval()\n",
                "with torch.inference_mode():\n",
                "  for batch, (X, y) in enumerate(test_dataloader):\n",
                "    X, y = X.to(device), y.to(device)\n",
                "    y_logits = model_gpu(X)\n",
                "    y_pred_labels = torch.argmax(torch.softmax(y_logits, dim =1), dim =1)\n",
                "    y_preds.append(y_pred_labels)\n",
                "\n",
                "y_preds = torch.cat(y_preds)\n"
            ]
        },
        {
            "cell_type": "code",
            "execution_count": null,
            "metadata": {
                "colab": {
                    "base_uri": "https://localhost:8080/",
                    "height": 646
                },
                "executionInfo": {
                    "elapsed": 535,
                    "status": "ok",
                    "timestamp": 1745506877889,
                    "user": {
                        "displayName": "Iris",
                        "userId": "16114036812760249917"
                    },
                    "user_tz": -120
                },
                "id": "vSrXiT_AbQ6e",
                "outputId": "77b24c23-f1d8-4bf8-a750-bbd5ade54bfd"
            },
            "outputs": [
                {
                    "data": {
                        "image/png": "[encoded data removed]",
                        "text/plain": [
                            "<Figure size 1000x700 with 1 Axes>"
                        ]
                    },
                    "metadata": {},
                    "output_type": "display_data"
                }
            ],
            "source": [
                "from torchmetrics import ConfusionMatrix\n",
                "from mlxtend.plotting import plot_confusion_matrix\n",
                "\n",
                "confmat = ConfusionMatrix(num_classes = len(class_names), task =\"multiclass\")\n",
                "confmat_tensor = confmat(preds = y_preds.cpu(),\n",
                "                         target = test_data.targets)\n",
                "\n",
                "fig,ax = plot_confusion_matrix(\n",
                "    conf_mat = confmat_tensor.numpy(),\n",
                "    class_names = class_names,\n",
                "    figsize=(10,7)\n",
                ");"
            ]
        },
        {
            "cell_type": "markdown",
            "metadata": {
                "id": "lj6bDhoWxt2y"
            },
            "source": [
                "## 12. Create a random tensor of shape `[1, 3, 64, 64]` and pass it through a `nn.Conv2d()` layer with various hyperparameter settings (these can be any settings you choose), what do you notice if the `kernel_size` parameter goes up and down?"
            ]
        },
        {
            "cell_type": "code",
            "execution_count": null,
            "metadata": {
                "colab": {
                    "base_uri": "https://localhost:8080/"
                },
                "executionInfo": {
                    "elapsed": 14,
                    "status": "ok",
                    "timestamp": 1745506881747,
                    "user": {
                        "displayName": "Iris",
                        "userId": "16114036812760249917"
                    },
                    "user_tz": -120
                },
                "id": "leCTsqtSbR5P",
                "outputId": "efbcaf8d-9e6a-4d61-f44a-2b8208447775"
            },
            "outputs": [
                {
                    "data": {
                        "text/plain": [
                            "torch.Size([1, 3, 64, 64])"
                        ]
                    },
                    "execution_count": 23,
                    "metadata": {},
                    "output_type": "execute_result"
                }
            ],
            "source": [
                "random_tensor = torch.randn(size=(1,3,64,64))\n",
                "random_tensor.shape"
            ]
        },
        {
            "cell_type": "code",
            "execution_count": null,
            "metadata": {
                "colab": {
                    "base_uri": "https://localhost:8080/"
                },
                "executionInfo": {
                    "elapsed": 15,
                    "status": "ok",
                    "timestamp": 1745506882541,
                    "user": {
                        "displayName": "Iris",
                        "userId": "16114036812760249917"
                    },
                    "user_tz": -120
                },
                "id": "kGUYJ9ChKNF5",
                "outputId": "e72e75cb-a769-4d2c-bac7-24d5ae0b7ddc"
            },
            "outputs": [
                {
                    "data": {
                        "text/plain": [
                            "torch.Size([1, 64, 66, 66])"
                        ]
                    },
                    "execution_count": 24,
                    "metadata": {},
                    "output_type": "execute_result"
                }
            ],
            "source": [
                "conv_layer = nn.Conv2d(in_channels=3,\n",
                "                       out_channels=64,\n",
                "                       kernel_size = 3,\n",
                "                       padding = 2,\n",
                "                       stride = 1)\n",
                "random_layer = conv_layer(random_tensor)\n",
                "random_layer.shape"
            ]
        },
        {
            "cell_type": "markdown",
            "metadata": {
                "id": "VHS20cNTxwSi"
            },
            "source": [
                "## 13. Use a model similar to the trained `model_2` from notebook 03 to make predictions on the test [`torchvision.datasets.FashionMNIST`](https://pytorch.org/vision/main/generated/torchvision.datasets.FashionMNIST.html) dataset.\n",
                "* Then plot some predictions where the model was wrong alongside what the label of the image should've been.\n",
                "* After visualing these predictions do you think it's more of a modelling error or a data error?\n",
                "* As in, could the model do better or are the labels of the data too close to each other (e.g. a \"Shirt\" label is too close to \"T-shirt/top\")?"
            ]
        },
        {
            "cell_type": "code",
            "execution_count": null,
            "metadata": {
                "colab": {
                    "base_uri": "https://localhost:8080/"
                },
                "executionInfo": {
                    "elapsed": 7002,
                    "status": "ok",
                    "timestamp": 1745506891858,
                    "user": {
                        "displayName": "Iris",
                        "userId": "16114036812760249917"
                    },
                    "user_tz": -120
                },
                "id": "78a8LjtdbSZj",
                "outputId": "c6fb40e3-cd52-4795-b213-f11696986b1d"
            },
            "outputs": [
                {
                    "name": "stderr",
                    "output_type": "stream",
                    "text": [
                        "100%|██████████| 26.4M/26.4M [00:02<00:00, 11.8MB/s]\n",
                        "100%|██████████| 29.5k/29.5k [00:00<00:00, 199kB/s]\n",
                        "100%|██████████| 4.42M/4.42M [00:01<00:00, 3.28MB/s]\n",
                        "100%|██████████| 5.15k/5.15k [00:00<00:00, 15.7MB/s]\n"
                    ]
                },
                {
                    "data": {
                        "text/plain": [
                            "(60000, 10000)"
                        ]
                    },
                    "execution_count": 25,
                    "metadata": {},
                    "output_type": "execute_result"
                }
            ],
            "source": [
                "# Download FashionMNIST train & test\n",
                "from torchvision import datasets\n",
                "from torchvision import transforms\n",
                "\n",
                "fashion_mnist_train = datasets.FashionMNIST(root=\".\",\n",
                "                                            download=True,\n",
                "                                            train=True,\n",
                "                                            transform=transforms.ToTensor())\n",
                "\n",
                "fashion_mnist_test = datasets.FashionMNIST(root=\".\",\n",
                "                                           train=False,\n",
                "                                           download=True,\n",
                "                                           transform=transforms.ToTensor())\n",
                "\n",
                "len(fashion_mnist_train), len(fashion_mnist_test)"
            ]
        },
        {
            "cell_type": "code",
            "execution_count": null,
            "metadata": {
                "colab": {
                    "base_uri": "https://localhost:8080/"
                },
                "executionInfo": {
                    "elapsed": 5,
                    "status": "ok",
                    "timestamp": 1745506891865,
                    "user": {
                        "displayName": "Iris",
                        "userId": "16114036812760249917"
                    },
                    "user_tz": -120
                },
                "id": "MOIxMHxqLua8",
                "outputId": "a2abcfc3-1a6e-47e4-fabb-47886f736ce6"
            },
            "outputs": [
                {
                    "data": {
                        "text/plain": [
                            "['T-shirt/top',\n",
                            " 'Trouser',\n",
                            " 'Pullover',\n",
                            " 'Dress',\n",
                            " 'Coat',\n",
                            " 'Sandal',\n",
                            " 'Shirt',\n",
                            " 'Sneaker',\n",
                            " 'Bag',\n",
                            " 'Ankle boot']"
                        ]
                    },
                    "execution_count": 26,
                    "metadata": {},
                    "output_type": "execute_result"
                }
            ],
            "source": [
                "class_names = fashion_mnist_train.classes\n",
                "class_names"
            ]
        },
        {
            "cell_type": "code",
            "execution_count": null,
            "metadata": {
                "colab": {
                    "base_uri": "https://localhost:8080/"
                },
                "executionInfo": {
                    "elapsed": 4,
                    "status": "ok",
                    "timestamp": 1745506891869,
                    "user": {
                        "displayName": "Iris",
                        "userId": "16114036812760249917"
                    },
                    "user_tz": -120
                },
                "id": "aEbpkEYSL12f",
                "outputId": "43f46430-ac6f-44dd-d837-24ad56fd22d8"
            },
            "outputs": [
                {
                    "data": {
                        "text/plain": [
                            "(1875, 313)"
                        ]
                    },
                    "execution_count": 27,
                    "metadata": {},
                    "output_type": "execute_result"
                }
            ],
            "source": [
                "from torch.utils.data import DataLoader\n",
                "\n",
                "BATCH_SIZE = 32\n",
                "\n",
                "train_dataloader = DataLoader(fashion_mnist_train,\n",
                "                              batch_size = BATCH_SIZE,\n",
                "                              shuffle = True)\n",
                "\n",
                "test_dataloader = DataLoader(fashion_mnist_test,\n",
                "                             batch_size = BATCH_SIZE,\n",
                "                             shuffle = False)\n",
                "\n",
                "len(train_dataloader), len(test_dataloader)"
            ]
        },
        {
            "cell_type": "code",
            "execution_count": null,
            "metadata": {
                "colab": {
                    "base_uri": "https://localhost:8080/"
                },
                "executionInfo": {
                    "elapsed": 4,
                    "status": "ok",
                    "timestamp": 1745506891874,
                    "user": {
                        "displayName": "Iris",
                        "userId": "16114036812760249917"
                    },
                    "user_tz": -120
                },
                "id": "g_eY0FaqMO3J",
                "outputId": "d9b01ef3-176f-4d69-db60-8092fc9a08cb"
            },
            "outputs": [
                {
                    "data": {
                        "text/plain": [
                            "MNIST(\n",
                            "  (block_1): Sequential(\n",
                            "    (0): Conv2d(1, 10, kernel_size=(3, 3), stride=(1, 1), padding=(1, 1))\n",
                            "    (1): ReLU()\n",
                            "    (2): Conv2d(10, 10, kernel_size=(3, 3), stride=(1, 1), padding=(1, 1))\n",
                            "    (3): ReLU()\n",
                            "    (4): MaxPool2d(kernel_size=2, stride=2, padding=0, dilation=1, ceil_mode=False)\n",
                            "  )\n",
                            "  (block_2): Sequential(\n",
                            "    (0): Conv2d(10, 10, kernel_size=(3, 3), stride=(1, 1), padding=(1, 1))\n",
                            "    (1): ReLU()\n",
                            "    (2): Conv2d(10, 10, kernel_size=(3, 3), stride=(1, 1), padding=(1, 1))\n",
                            "    (3): ReLU()\n",
                            "    (4): MaxPool2d(kernel_size=2, stride=2, padding=0, dilation=1, ceil_mode=False)\n",
                            "  )\n",
                            "  (classifier): Sequential(\n",
                            "    (0): Flatten(start_dim=1, end_dim=-1)\n",
                            "    (1): Linear(in_features=490, out_features=10, bias=True)\n",
                            "  )\n",
                            ")"
                        ]
                    },
                    "execution_count": 28,
                    "metadata": {},
                    "output_type": "execute_result"
                }
            ],
            "source": [
                "model_2 = MNIST(input_shape=1,\n",
                "                hidden_units=10,\n",
                "                output_shape=len(class_names)).to(device)\n",
                "model_2"
            ]
        },
        {
            "cell_type": "code",
            "execution_count": null,
            "metadata": {
                "id": "cSXXpTZQOTDM"
            },
            "outputs": [],
            "source": [
                "# Setup loss and optimizer\n",
                "from torch import nn\n",
                "loss_fn = nn.CrossEntropyLoss()\n",
                "optimizer = torch.optim.SGD(model_2.parameters(), lr=0.01)"
            ]
        },
        {
            "cell_type": "code",
            "execution_count": null,
            "metadata": {
                "colab": {
                    "base_uri": "https://localhost:8080/",
                    "height": 160,
                    "referenced_widgets": [
                        "d799e41f761a419f9d55e043c78102ad",
                        "ba387bf33c0744eb9c488b95f54f9b4e",
                        "e6eb8eae047441e2be31425aba2bc975",
                        "1222cf7bfa07483b87a1af5f67a64d28",
                        "40a34067521a4a2c807b7673096f5f1b",
                        "277bd1d103824bf18a3994957f50a940",
                        "a152018616cc442f8a7e41821d9d7695",
                        "63cd1b12f9514005b27ff4e8c15f457c",
                        "808ea26570804ffb8b87efe11ddbb15c",
                        "f92afa4d6d02466992e7f919b6696d7c",
                        "a9480ef4586842d78f3c2c6eea0d594f"
                    ]
                },
                "executionInfo": {
                    "elapsed": 62321,
                    "status": "ok",
                    "timestamp": 1745506954241,
                    "user": {
                        "displayName": "Iris",
                        "userId": "16114036812760249917"
                    },
                    "user_tz": -120
                },
                "id": "A4dZwfrJOaEM",
                "outputId": "64f7158f-804e-48d8-b12a-18c1349b5039"
            },
            "outputs": [
                {
                    "data": {
                        "application/vnd.jupyter.widget-view+json": {
                            "model_id": "d799e41f761a419f9d55e043c78102ad",
                            "version_major": 2,
                            "version_minor": 0
                        },
                        "text/plain": [
                            "  0%|          | 0/5 [00:00<?, ?it/s]"
                        ]
                    },
                    "metadata": {},
                    "output_type": "display_data"
                },
                {
                    "name": "stdout",
                    "output_type": "stream",
                    "text": [
                        "Epoch: 0 | Train loss: 1.095 | Train acc: 0.60 | Test loss: 199.979 | Test acc: 0.77\n",
                        "Epoch: 1 | Train loss: 0.537 | Train acc: 0.81 | Test loss: 164.344 | Test acc: 0.80\n",
                        "Epoch: 2 | Train loss: 0.452 | Train acc: 0.84 | Test loss: 144.202 | Test acc: 0.83\n",
                        "Epoch: 3 | Train loss: 0.412 | Train acc: 0.85 | Test loss: 130.057 | Test acc: 0.85\n",
                        "Epoch: 4 | Train loss: 0.384 | Train acc: 0.86 | Test loss: 123.743 | Test acc: 0.86\n"
                    ]
                }
            ],
            "source": [
                "# Setup metrics\n",
                "from tqdm.auto import tqdm\n",
                "from torchmetrics import Accuracy\n",
                "\n",
                "acc_fn = Accuracy(task = 'multiclass', num_classes=len(class_names)).to(device)\n",
                "\n",
                "# Setup training/testing loop\n",
                "epochs = 5\n",
                "for epoch in tqdm(range(epochs)):\n",
                "  train_loss, test_loss_total = 0, 0\n",
                "  train_acc, test_acc = 0, 0\n",
                "\n",
                "  ### Training\n",
                "  model_2.train()\n",
                "  for batch, (X_train, y_train) in enumerate(train_dataloader):\n",
                "    X_train, y_train = X_train.to(device), y_train.to(device)\n",
                "\n",
                "    # Forward pass and loss\n",
                "    y_pred = model_2(X_train)\n",
                "    loss = loss_fn(y_pred, y_train)\n",
                "    train_loss += loss\n",
                "    train_acc += acc_fn(y_pred, y_train)\n",
                "\n",
                "    # Backprop and gradient descent\n",
                "    optimizer.zero_grad()\n",
                "    loss.backward()\n",
                "    optimizer.step()\n",
                "\n",
                "  # Adjust the loss/acc (find the loss/acc per epoch)\n",
                "  train_loss /= len(train_dataloader)\n",
                "  train_acc /= len(train_dataloader)\n",
                "\n",
                "  ### Testing\n",
                "  model_2.eval()\n",
                "  with torch.inference_mode():\n",
                "    for batch, (X_test, y_test) in enumerate(test_dataloader):\n",
                "      X_test, y_test = X_test.to(device), y_test.to(device)\n",
                "\n",
                "      # Forward pass and loss\n",
                "      y_pred_test = model_2(X_test)\n",
                "      test_loss = loss_fn(y_pred_test, y_test)\n",
                "      test_loss_total += test_loss\n",
                "\n",
                "      test_acc += acc_fn(y_pred_test, y_test)\n",
                "\n",
                "    # Adjust the loss/acc (find the loss/acc per epoch)\n",
                "    test_loss /= len(test_dataloader)\n",
                "    test_acc /= len(test_dataloader)\n",
                "\n",
                "  # Print out what's happening\n",
                "  print(f\"Epoch: {epoch} | Train loss: {train_loss:.3f} | Train acc: {train_acc:.2f} | Test loss: {test_loss_total:.3f} | Test acc: {test_acc:.2f}\")"
            ]
        },
        {
            "cell_type": "code",
            "execution_count": null,
            "metadata": {
                "colab": {
                    "base_uri": "https://localhost:8080/"
                },
                "executionInfo": {
                    "elapsed": 1410,
                    "status": "ok",
                    "timestamp": 1745509873632,
                    "user": {
                        "displayName": "Iris",
                        "userId": "16114036812760249917"
                    },
                    "user_tz": -120
                },
                "id": "9TLp0paEOds6",
                "outputId": "f1b84d0d-bb86-4e27-a0c7-4c5a860a4c2d"
            },
            "outputs": [
                {
                    "data": {
                        "text/plain": [
                            "tensor([9, 2, 1, 1, 6, 1, 4, 6, 5, 7])"
                        ]
                    },
                    "execution_count": 38,
                    "metadata": {},
                    "output_type": "execute_result"
                }
            ],
            "source": [
                "# Predictions with all the data\n",
                "y_preds = []\n",
                "model_2.eval()\n",
                "with torch.inference_mode():\n",
                "  for X_test, y_test in test_dataloader:\n",
                "    X_test, y_test = X_test.to(device), y_test.to(device)\n",
                "    y_logits = model_2(X_test)\n",
                "    y_pred_labels = torch.argmax(torch.softmax(y_logits, dim =1), dim =1)\n",
                "    y_preds.append(y_pred_labels)\n",
                "\n",
                "y_preds = torch.cat(y_preds).cpu()\n",
                "y_preds[:10]"
            ]
        },
        {
            "cell_type": "code",
            "execution_count": null,
            "metadata": {
                "colab": {
                    "base_uri": "https://localhost:8080/"
                },
                "executionInfo": {
                    "elapsed": 10,
                    "status": "ok",
                    "timestamp": 1745509875151,
                    "user": {
                        "displayName": "Iris",
                        "userId": "16114036812760249917"
                    },
                    "user_tz": -120
                },
                "id": "2YIxAFtuQrft",
                "outputId": "8fac7252-47fb-4fc4-f5e4-dccc5eb38796"
            },
            "outputs": [
                {
                    "data": {
                        "text/plain": [
                            "1423"
                        ]
                    },
                    "execution_count": 39,
                    "metadata": {},
                    "output_type": "execute_result"
                }
            ],
            "source": [
                "import numpy as np\n",
                "wrong_pred_indexes = np.where(y_preds != fashion_mnist_test.targets)[0]\n",
                "len(wrong_pred_indexes)"
            ]
        },
        {
            "cell_type": "code",
            "execution_count": null,
            "metadata": {
                "colab": {
                    "base_uri": "https://localhost:8080/",
                    "height": 662
                },
                "executionInfo": {
                    "elapsed": 489,
                    "status": "ok",
                    "timestamp": 1745509892629,
                    "user": {
                        "displayName": "Iris",
                        "userId": "16114036812760249917"
                    },
                    "user_tz": -120
                },
                "id": "7nUBTPgZUdps",
                "outputId": "43376ea5-bdc1-4e69-a0a1-f1e9865a8d20"
            },
            "outputs": [
                {
                    "data": {
                        "image/png": "[encoded data removed]",
                        "text/plain": [
                            "<Figure size 1000x1000 with 9 Axes>"
                        ]
                    },
                    "metadata": {},
                    "output_type": "display_data"
                }
            ],
            "source": [
                "# Select random 9 wrong predictions and plot them\n",
                "import random\n",
                "random_selection = random.sample(list(wrong_pred_indexes), k=9)\n",
                "\n",
                "plt.figure(figsize=(10, 10))\n",
                "for i, idx in enumerate(random_selection):\n",
                "  # Get true and pred labels\n",
                "  true_label = class_names[fashion_mnist_test[idx][1]]\n",
                "  pred_label = class_names[y_preds[idx]]\n",
                "\n",
                "  # Plot the wrong prediction with its original label\n",
                "  plt.subplot(3, 3, i+1)\n",
                "  plt.imshow(fashion_mnist_test[idx][0].squeeze(), cmap=\"gray\")\n",
                "  plt.title(f\"True: {true_label} | Pred: {pred_label}\", c=\"r\")\n",
                "  plt.axis(False);"
            ]
        },
        {
            "cell_type": "code",
            "execution_count": null,
            "metadata": {
                "id": "f-1BVsqoUe82"
            },
            "outputs": [],
            "source": []
        }
    ],
    "metadata": {
        "accelerator": "GPU",
        "colab": {
            "gpuType": "T4",
            "provenance": [
                {
                    "file_id": "https://github.com/mrdbourke/pytorch-deep-learning/blob/main/extras/exercises/03_pytorch_computer_vision_exercises.ipynb",
                    "timestamp": 1745313985273
                }
            ]
        },
        "kernelspec": {
            "display_name": "Python 3",
            "name": "python3"
        },
        "language_info": {
            "name": "python"
        }
    },
    "nbformat": 4,
    "nbformat_minor": 0
}
